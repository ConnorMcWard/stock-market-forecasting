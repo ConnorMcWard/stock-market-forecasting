{
 "cells": [
  {
   "cell_type": "markdown",
   "metadata": {},
   "source": [
    "## Import libraries"
   ]
  },
  {
   "cell_type": "code",
   "execution_count": 1,
   "metadata": {},
   "outputs": [],
   "source": [
    "import yfinance as yf\n",
    "import pandas as pd\n",
    "import os"
   ]
  },
  {
   "cell_type": "markdown",
   "metadata": {},
   "source": [
    "## Get S&P 500 tickers and metadata"
   ]
  },
  {
   "cell_type": "code",
   "execution_count": 2,
   "metadata": {},
   "outputs": [],
   "source": [
    "def get_sp500_data():\n",
    "    \"\"\"\n",
    "    Fetch S&P 500 tickers and metadata from Wikipedia.\n",
    "\n",
    "    Returns:\n",
    "        dict: A dictionary mapping ticker symbols (str) to their industry data.\n",
    "    \"\"\"\n",
    "    url = \"https://en.wikipedia.org/wiki/List_of_S%26P_500_companies\"\n",
    "    sp500 = pd.read_html(url)[0]\n",
    "\n",
    "    # Create dictionary with requested fields\n",
    "    ticker_data_dict = {\n",
    "        t.replace(\".\", \"-\"): {\n",
    "            \"Ticker\": t.replace(\".\", \"-\"),\n",
    "            \"Name\": n,\n",
    "            \"Industry\": ind,\n",
    "            \"Sub_Industry\": sub,\n",
    "        }\n",
    "        for t, n, ind, sub in zip(\n",
    "            sp500[\"Symbol\"],\n",
    "            sp500[\"Security\"],\n",
    "            sp500[\"GICS Sector\"],\n",
    "            sp500[\"GICS Sub-Industry\"],\n",
    "        )\n",
    "    }\n",
    "\n",
    "    return ticker_data_dict"
   ]
  },
  {
   "cell_type": "markdown",
   "metadata": {},
   "source": [
    "## Fetch Ticker Data from Yahoo finance"
   ]
  },
  {
   "cell_type": "code",
   "execution_count": 3,
   "metadata": {},
   "outputs": [],
   "source": [
    "def fetch_ticker_data(ticker: str, period: str) -> pd.DataFrame:\n",
    "    \"\"\"\n",
    "    Download historical stock data from Yahoo Finance.\n",
    "\n",
    "    Args:\n",
    "        ticker (str): Stock ticker symbol.\n",
    "        period (str): How far to look back from last available trading day. \\n\n",
    "                        Valid periods: 1d,5d,1mo,3mo,6mo,1y,2y,5y,10y,ytd,max\n",
    "\n",
    "    Returns:\n",
    "        data (pd.DataFrame): A DataFrame containing historical stock data for the given ticker.\n",
    "    \"\"\"\n",
    "    try:\n",
    "        # download historical ticker data\n",
    "        data = yf.download(\n",
    "            tickers=ticker, \n",
    "            period=period,\n",
    "            interval=\"1d\",\n",
    "            actions=True, \n",
    "            threads=True, \n",
    "            auto_adjust=False,\n",
    "            multi_level_index=False,\n",
    "        ).reset_index()\n",
    "\n",
    "        # add ticker column\n",
    "        data['Ticker'] = ticker\n",
    "\n",
    "    except Exception as e:\n",
    "        print(f\"Error downloading {ticker}: {e}\")\n",
    "        data=pd.DataFrame()\n",
    "\n",
    "    return data"
   ]
  },
  {
   "cell_type": "markdown",
   "metadata": {},
   "source": [
    "## Combine Stock data and metadata"
   ]
  },
  {
   "cell_type": "code",
   "execution_count": 4,
   "metadata": {},
   "outputs": [],
   "source": [
    "def combine_stock_data(ticker_data_dict: dict, ticker_df: pd.DataFrame) -> pd.DataFrame:\n",
    "    \"\"\"\n",
    "    Combine historical ticker data with industry and subindustry metadata.\n",
    "\n",
    "    Args:\n",
    "        ticker (str): Stock ticker symbol.\n",
    "        ticker_data_dict (dict): Dictionary of Ticker data. This includes Industry and sub-industry.\n",
    "        ticker_df (pd.DataFrame): DataFrame of historical ticker data.\n",
    "    \"\"\"\n",
    "    # convert ticker_data_dict to a DataFrame and Transpose it, while dropping unecessary index\n",
    "    ticker_data_dict_df = pd.DataFrame(ticker_data_dict).T.reset_index(drop=True)\n",
    "\n",
    "    # merge DataFrames together\n",
    "    combined_df = pd.merge(ticker_data_dict_df, ticker_df, how=\"right\", on=\"Ticker\")\n",
    "\n",
    "    return combined_df"
   ]
  },
  {
   "cell_type": "markdown",
   "metadata": {},
   "source": [
    "## Save stock data and metadata"
   ]
  },
  {
   "cell_type": "code",
   "execution_count": 5,
   "metadata": {},
   "outputs": [],
   "source": [
    "def save_stock_data(ticker: str, full_df: pd.DataFrame, output_path: str) -> None:\n",
    "    \"\"\"\n",
    "    Save metadata and historical stock data to data output folder for model training\n",
    "\n",
    "    Args:\n",
    "        ticker (str): Stock ticker symbol.\n",
    "        full_df (pd.DataFrame): DataFrame after being combined using combine_stock_data.\n",
    "        output_path (str): output directory for storing data.\n",
    "    \"\"\"\n",
    "    # create directory if it doesn't exist\n",
    "    os.makedirs(output_path, exist_ok=True)\n",
    "\n",
    "    full_file_path = os.path.join(output_path, f\"{ticker}.csv\")\n",
    "    full_df.to_csv(path_or_buf=full_file_path, index=False)"
   ]
  },
  {
   "cell_type": "markdown",
   "metadata": {},
   "source": [
    "## Run code on first available ticker"
   ]
  },
  {
   "cell_type": "code",
   "execution_count": 6,
   "metadata": {},
   "outputs": [
    {
     "name": "stdout",
     "output_type": "stream",
     "text": [
      "Downloading Ticker: MMM\n"
     ]
    },
    {
     "name": "stderr",
     "output_type": "stream",
     "text": [
      "[*********************100%***********************]  1 of 1 completed"
     ]
    },
    {
     "name": "stdout",
     "output_type": "stream",
     "text": [
      "S&P 500 stocks download complete!\n",
      "  Ticker Name     Industry              Sub_Industry       Date  Adj Close  \\\n",
      "0    MMM   3M  Industrials  Industrial Conglomerates 2023-03-20  80.145538   \n",
      "1    MMM   3M  Industrials  Industrial Conglomerates 2023-03-21  80.130173   \n",
      "2    MMM   3M  Industrials  Industrial Conglomerates 2023-03-22  78.017235   \n",
      "3    MMM   3M  Industrials  Industrial Conglomerates 2023-03-23  77.602333   \n",
      "4    MMM   3M  Industrials  Industrial Conglomerates 2023-03-24  77.709892   \n",
      "\n",
      "       Close  Dividends       High        Low       Open  Stock Splits  \\\n",
      "0  87.215721        0.0  87.332779  86.304352  86.463211           0.0   \n",
      "1  87.198997        0.0  88.193977  86.429764  87.993309           0.0   \n",
      "2  84.899666        0.0  87.416389  84.866219  87.224083           0.0   \n",
      "3  84.448158        0.0  86.061874  84.247490  85.000000           0.0   \n",
      "4  84.565216        0.0  84.732445  83.745819  83.921402           0.0   \n",
      "\n",
      "    Volume  \n",
      "0  3255392  \n",
      "1  3137826  \n",
      "2  3355378  \n",
      "3  3800051  \n",
      "4  4249268  \n"
     ]
    },
    {
     "name": "stderr",
     "output_type": "stream",
     "text": [
      "\n"
     ]
    }
   ],
   "source": [
    "if __name__ == \"__main__\":\n",
    "    # get S&P 500 data\n",
    "    sp_500 = get_sp500_data()\n",
    "    first_ticker = list(sp_500.keys())[0]\n",
    "\n",
    "    print(f\"Downloading Ticker: {first_ticker}\")\n",
    "    df = fetch_ticker_data(ticker=first_ticker, period='2y')\n",
    "\n",
    "    combined_df = combine_stock_data(ticker_data_dict=sp_500, ticker_df=df)\n",
    "\n",
    "    # save_stock_data(first_ticker, full_df=combined_df, output_path=\"data/input/\")\n",
    "    print(\"S&P 500 stocks download complete!\")\n",
    "\n",
    "    print(combined_df.head())"
   ]
  },
  {
   "cell_type": "code",
   "execution_count": null,
   "metadata": {},
   "outputs": [],
   "source": []
  }
 ],
 "metadata": {
  "kernelspec": {
   "display_name": "base",
   "language": "python",
   "name": "python3"
  },
  "language_info": {
   "codemirror_mode": {
    "name": "ipython",
    "version": 3
   },
   "file_extension": ".py",
   "mimetype": "text/x-python",
   "name": "python",
   "nbconvert_exporter": "python",
   "pygments_lexer": "ipython3",
   "version": "3.11.5"
  }
 },
 "nbformat": 4,
 "nbformat_minor": 2
}
