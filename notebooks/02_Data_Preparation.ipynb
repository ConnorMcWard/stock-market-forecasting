{
 "cells": [
  {
   "cell_type": "markdown",
   "metadata": {},
   "source": [
    "Ticker,Name,Industry,Sub_Industry,Date,Adj Close,Close,High,Low,Open,Volume\n",
    "A,Agilent Technologies,Health Care,Life Sciences Tools & Services,2024-09-16,137.8354034423828,138.30999755859375,139.77999877929688,137.5,138.27999877929688,887000\n",
    "A,Agilent Technologies,Health Care,Life Sciences Tools & Services,2024-09-17,137.87525939941406,138.35000610351562,139.77999877929688,137.38999938964844,138.66000366210938,1210200\n",
    "A,Agilent Technologies,Health Care,Life Sciences Tools & Services,2024-09-18,138.53298950195312,139.00999450683594,141.0,137.42999267578125,138.5,1390500"
   ]
  },
  {
   "cell_type": "code",
   "execution_count": 38,
   "metadata": {},
   "outputs": [],
   "source": [
    "import pandas as pd\n",
    "import numpy as np\n",
    "from sklearn.preprocessing import StandardScaler, OneHotEncoder"
   ]
  },
  {
   "cell_type": "code",
   "execution_count": 39,
   "metadata": {},
   "outputs": [],
   "source": [
    "df1 = pd.read_csv(r\"../data/input/A.csv\")\n",
    "df2 = pd.read_csv(r\"../data/input/AAPL.csv\")\n",
    "df3 = pd.read_csv(r\"../data/input/ACN.csv\")"
   ]
  },
  {
   "cell_type": "code",
   "execution_count": 40,
   "metadata": {},
   "outputs": [],
   "source": [
    "merged_df = pd.concat([df1, df2])\n",
    "merged_df = pd.concat([merged_df, df3])"
   ]
  },
  {
   "cell_type": "code",
   "execution_count": 41,
   "metadata": {},
   "outputs": [
    {
     "data": {
      "text/html": [
       "<div>\n",
       "<style scoped>\n",
       "    .dataframe tbody tr th:only-of-type {\n",
       "        vertical-align: middle;\n",
       "    }\n",
       "\n",
       "    .dataframe tbody tr th {\n",
       "        vertical-align: top;\n",
       "    }\n",
       "\n",
       "    .dataframe thead th {\n",
       "        text-align: right;\n",
       "    }\n",
       "</style>\n",
       "<table border=\"1\" class=\"dataframe\">\n",
       "  <thead>\n",
       "    <tr style=\"text-align: right;\">\n",
       "      <th></th>\n",
       "      <th>Ticker</th>\n",
       "      <th>Name</th>\n",
       "      <th>Industry</th>\n",
       "      <th>Sub_Industry</th>\n",
       "      <th>Date</th>\n",
       "      <th>Adj Close</th>\n",
       "      <th>Close</th>\n",
       "      <th>High</th>\n",
       "      <th>Low</th>\n",
       "      <th>Open</th>\n",
       "      <th>Volume</th>\n",
       "    </tr>\n",
       "  </thead>\n",
       "  <tbody>\n",
       "    <tr>\n",
       "      <th>0</th>\n",
       "      <td>A</td>\n",
       "      <td>Agilent Technologies</td>\n",
       "      <td>Health Care</td>\n",
       "      <td>Life Sciences Tools &amp; Services</td>\n",
       "      <td>2023-03-20</td>\n",
       "      <td>132.649078</td>\n",
       "      <td>134.539993</td>\n",
       "      <td>135.380005</td>\n",
       "      <td>132.729996</td>\n",
       "      <td>133.139999</td>\n",
       "      <td>1704500</td>\n",
       "    </tr>\n",
       "    <tr>\n",
       "      <th>1</th>\n",
       "      <td>A</td>\n",
       "      <td>Agilent Technologies</td>\n",
       "      <td>Health Care</td>\n",
       "      <td>Life Sciences Tools &amp; Services</td>\n",
       "      <td>2023-03-21</td>\n",
       "      <td>135.084366</td>\n",
       "      <td>137.009995</td>\n",
       "      <td>137.419998</td>\n",
       "      <td>135.220001</td>\n",
       "      <td>135.559998</td>\n",
       "      <td>1392300</td>\n",
       "    </tr>\n",
       "    <tr>\n",
       "      <th>2</th>\n",
       "      <td>A</td>\n",
       "      <td>Agilent Technologies</td>\n",
       "      <td>Health Care</td>\n",
       "      <td>Life Sciences Tools &amp; Services</td>\n",
       "      <td>2023-03-22</td>\n",
       "      <td>131.850464</td>\n",
       "      <td>133.729996</td>\n",
       "      <td>137.539993</td>\n",
       "      <td>133.600006</td>\n",
       "      <td>136.960007</td>\n",
       "      <td>1268500</td>\n",
       "    </tr>\n",
       "    <tr>\n",
       "      <th>3</th>\n",
       "      <td>A</td>\n",
       "      <td>Agilent Technologies</td>\n",
       "      <td>Health Care</td>\n",
       "      <td>Life Sciences Tools &amp; Services</td>\n",
       "      <td>2023-03-23</td>\n",
       "      <td>129.287018</td>\n",
       "      <td>131.130005</td>\n",
       "      <td>135.070007</td>\n",
       "      <td>129.369995</td>\n",
       "      <td>134.660004</td>\n",
       "      <td>3297900</td>\n",
       "    </tr>\n",
       "    <tr>\n",
       "      <th>4</th>\n",
       "      <td>A</td>\n",
       "      <td>Agilent Technologies</td>\n",
       "      <td>Health Care</td>\n",
       "      <td>Life Sciences Tools &amp; Services</td>\n",
       "      <td>2023-03-24</td>\n",
       "      <td>130.105362</td>\n",
       "      <td>131.960007</td>\n",
       "      <td>131.979996</td>\n",
       "      <td>128.220001</td>\n",
       "      <td>130.139999</td>\n",
       "      <td>1571600</td>\n",
       "    </tr>\n",
       "    <tr>\n",
       "      <th>...</th>\n",
       "      <td>...</td>\n",
       "      <td>...</td>\n",
       "      <td>...</td>\n",
       "      <td>...</td>\n",
       "      <td>...</td>\n",
       "      <td>...</td>\n",
       "      <td>...</td>\n",
       "      <td>...</td>\n",
       "      <td>...</td>\n",
       "      <td>...</td>\n",
       "      <td>...</td>\n",
       "    </tr>\n",
       "    <tr>\n",
       "      <th>495</th>\n",
       "      <td>ACN</td>\n",
       "      <td>Accenture</td>\n",
       "      <td>Information Technology</td>\n",
       "      <td>IT Consulting &amp; Other Services</td>\n",
       "      <td>2025-03-11</td>\n",
       "      <td>327.790009</td>\n",
       "      <td>327.790009</td>\n",
       "      <td>334.429993</td>\n",
       "      <td>325.549988</td>\n",
       "      <td>333.079987</td>\n",
       "      <td>3390000</td>\n",
       "    </tr>\n",
       "    <tr>\n",
       "      <th>496</th>\n",
       "      <td>ACN</td>\n",
       "      <td>Accenture</td>\n",
       "      <td>Information Technology</td>\n",
       "      <td>IT Consulting &amp; Other Services</td>\n",
       "      <td>2025-03-12</td>\n",
       "      <td>324.329987</td>\n",
       "      <td>324.329987</td>\n",
       "      <td>330.000000</td>\n",
       "      <td>322.890015</td>\n",
       "      <td>328.500000</td>\n",
       "      <td>3086200</td>\n",
       "    </tr>\n",
       "    <tr>\n",
       "      <th>497</th>\n",
       "      <td>ACN</td>\n",
       "      <td>Accenture</td>\n",
       "      <td>Information Technology</td>\n",
       "      <td>IT Consulting &amp; Other Services</td>\n",
       "      <td>2025-03-13</td>\n",
       "      <td>317.070007</td>\n",
       "      <td>317.070007</td>\n",
       "      <td>323.690002</td>\n",
       "      <td>314.609985</td>\n",
       "      <td>323.690002</td>\n",
       "      <td>3667400</td>\n",
       "    </tr>\n",
       "    <tr>\n",
       "      <th>498</th>\n",
       "      <td>ACN</td>\n",
       "      <td>Accenture</td>\n",
       "      <td>Information Technology</td>\n",
       "      <td>IT Consulting &amp; Other Services</td>\n",
       "      <td>2025-03-14</td>\n",
       "      <td>318.820007</td>\n",
       "      <td>318.820007</td>\n",
       "      <td>318.899994</td>\n",
       "      <td>314.290009</td>\n",
       "      <td>316.410004</td>\n",
       "      <td>4086000</td>\n",
       "    </tr>\n",
       "    <tr>\n",
       "      <th>499</th>\n",
       "      <td>ACN</td>\n",
       "      <td>Accenture</td>\n",
       "      <td>Information Technology</td>\n",
       "      <td>IT Consulting &amp; Other Services</td>\n",
       "      <td>2025-03-17</td>\n",
       "      <td>325.709991</td>\n",
       "      <td>325.709991</td>\n",
       "      <td>326.730011</td>\n",
       "      <td>319.600006</td>\n",
       "      <td>320.000000</td>\n",
       "      <td>3518100</td>\n",
       "    </tr>\n",
       "  </tbody>\n",
       "</table>\n",
       "<p>1500 rows × 11 columns</p>\n",
       "</div>"
      ],
      "text/plain": [
       "    Ticker                  Name                Industry  \\\n",
       "0        A  Agilent Technologies             Health Care   \n",
       "1        A  Agilent Technologies             Health Care   \n",
       "2        A  Agilent Technologies             Health Care   \n",
       "3        A  Agilent Technologies             Health Care   \n",
       "4        A  Agilent Technologies             Health Care   \n",
       "..     ...                   ...                     ...   \n",
       "495    ACN             Accenture  Information Technology   \n",
       "496    ACN             Accenture  Information Technology   \n",
       "497    ACN             Accenture  Information Technology   \n",
       "498    ACN             Accenture  Information Technology   \n",
       "499    ACN             Accenture  Information Technology   \n",
       "\n",
       "                       Sub_Industry        Date   Adj Close       Close  \\\n",
       "0    Life Sciences Tools & Services  2023-03-20  132.649078  134.539993   \n",
       "1    Life Sciences Tools & Services  2023-03-21  135.084366  137.009995   \n",
       "2    Life Sciences Tools & Services  2023-03-22  131.850464  133.729996   \n",
       "3    Life Sciences Tools & Services  2023-03-23  129.287018  131.130005   \n",
       "4    Life Sciences Tools & Services  2023-03-24  130.105362  131.960007   \n",
       "..                              ...         ...         ...         ...   \n",
       "495  IT Consulting & Other Services  2025-03-11  327.790009  327.790009   \n",
       "496  IT Consulting & Other Services  2025-03-12  324.329987  324.329987   \n",
       "497  IT Consulting & Other Services  2025-03-13  317.070007  317.070007   \n",
       "498  IT Consulting & Other Services  2025-03-14  318.820007  318.820007   \n",
       "499  IT Consulting & Other Services  2025-03-17  325.709991  325.709991   \n",
       "\n",
       "           High         Low        Open   Volume  \n",
       "0    135.380005  132.729996  133.139999  1704500  \n",
       "1    137.419998  135.220001  135.559998  1392300  \n",
       "2    137.539993  133.600006  136.960007  1268500  \n",
       "3    135.070007  129.369995  134.660004  3297900  \n",
       "4    131.979996  128.220001  130.139999  1571600  \n",
       "..          ...         ...         ...      ...  \n",
       "495  334.429993  325.549988  333.079987  3390000  \n",
       "496  330.000000  322.890015  328.500000  3086200  \n",
       "497  323.690002  314.609985  323.690002  3667400  \n",
       "498  318.899994  314.290009  316.410004  4086000  \n",
       "499  326.730011  319.600006  320.000000  3518100  \n",
       "\n",
       "[1500 rows x 11 columns]"
      ]
     },
     "execution_count": 41,
     "metadata": {},
     "output_type": "execute_result"
    }
   ],
   "source": [
    "merged_df"
   ]
  },
  {
   "cell_type": "code",
   "execution_count": 42,
   "metadata": {},
   "outputs": [
    {
     "data": {
      "text/html": [
       "<div>\n",
       "<style scoped>\n",
       "    .dataframe tbody tr th:only-of-type {\n",
       "        vertical-align: middle;\n",
       "    }\n",
       "\n",
       "    .dataframe tbody tr th {\n",
       "        vertical-align: top;\n",
       "    }\n",
       "\n",
       "    .dataframe thead th {\n",
       "        text-align: right;\n",
       "    }\n",
       "</style>\n",
       "<table border=\"1\" class=\"dataframe\">\n",
       "  <thead>\n",
       "    <tr style=\"text-align: right;\">\n",
       "      <th></th>\n",
       "      <th>Ticker</th>\n",
       "      <th>Industry</th>\n",
       "      <th>Sub_Industry</th>\n",
       "    </tr>\n",
       "  </thead>\n",
       "  <tbody>\n",
       "    <tr>\n",
       "      <th>0</th>\n",
       "      <td>A</td>\n",
       "      <td>Health Care</td>\n",
       "      <td>Life Sciences Tools &amp; Services</td>\n",
       "    </tr>\n",
       "    <tr>\n",
       "      <th>0</th>\n",
       "      <td>AAPL</td>\n",
       "      <td>Information Technology</td>\n",
       "      <td>Technology Hardware, Storage &amp; Peripherals</td>\n",
       "    </tr>\n",
       "    <tr>\n",
       "      <th>0</th>\n",
       "      <td>ACN</td>\n",
       "      <td>Information Technology</td>\n",
       "      <td>IT Consulting &amp; Other Services</td>\n",
       "    </tr>\n",
       "  </tbody>\n",
       "</table>\n",
       "</div>"
      ],
      "text/plain": [
       "  Ticker                Industry                                Sub_Industry\n",
       "0      A             Health Care              Life Sciences Tools & Services\n",
       "0   AAPL  Information Technology  Technology Hardware, Storage & Peripherals\n",
       "0    ACN  Information Technology              IT Consulting & Other Services"
      ]
     },
     "execution_count": 42,
     "metadata": {},
     "output_type": "execute_result"
    }
   ],
   "source": [
    "static_features = merged_df[['Ticker', \"Industry\", \"Sub_Industry\"]].drop_duplicates()\n",
    "static_features"
   ]
  },
  {
   "cell_type": "code",
   "execution_count": 43,
   "metadata": {},
   "outputs": [],
   "source": [
    "encoder = OneHotEncoder(sparse_output=False, handle_unknown='ignore')"
   ]
  },
  {
   "cell_type": "code",
   "execution_count": 44,
   "metadata": {},
   "outputs": [],
   "source": [
    "encoded_static = encoder.fit_transform(static_features)"
   ]
  },
  {
   "cell_type": "code",
   "execution_count": 45,
   "metadata": {},
   "outputs": [
    {
     "data": {
      "text/plain": [
       "array([[1., 0., 0., 1., 0., 0., 1., 0.],\n",
       "       [0., 1., 0., 0., 1., 0., 0., 1.],\n",
       "       [0., 0., 1., 0., 1., 1., 0., 0.]])"
      ]
     },
     "execution_count": 45,
     "metadata": {},
     "output_type": "execute_result"
    }
   ],
   "source": [
    "encoded_static"
   ]
  },
  {
   "cell_type": "code",
   "execution_count": 47,
   "metadata": {},
   "outputs": [],
   "source": [
    "# Convert to DataFrame\n",
    "static_columns = encoder.get_feature_names_out([\"Ticker\", \"Industry\", \"Sub_Industry\"])\n",
    "static_features_df = pd.DataFrame(encoded_static, columns=static_columns)\n",
    "static_features_df[\"Ticker\"] = static_features[\"Ticker\"].values"
   ]
  },
  {
   "cell_type": "code",
   "execution_count": 48,
   "metadata": {},
   "outputs": [
    {
     "data": {
      "text/html": [
       "<div>\n",
       "<style scoped>\n",
       "    .dataframe tbody tr th:only-of-type {\n",
       "        vertical-align: middle;\n",
       "    }\n",
       "\n",
       "    .dataframe tbody tr th {\n",
       "        vertical-align: top;\n",
       "    }\n",
       "\n",
       "    .dataframe thead th {\n",
       "        text-align: right;\n",
       "    }\n",
       "</style>\n",
       "<table border=\"1\" class=\"dataframe\">\n",
       "  <thead>\n",
       "    <tr style=\"text-align: right;\">\n",
       "      <th></th>\n",
       "      <th>Ticker_A</th>\n",
       "      <th>Ticker_AAPL</th>\n",
       "      <th>Ticker_ACN</th>\n",
       "      <th>Industry_Health Care</th>\n",
       "      <th>Industry_Information Technology</th>\n",
       "      <th>Sub_Industry_IT Consulting &amp; Other Services</th>\n",
       "      <th>Sub_Industry_Life Sciences Tools &amp; Services</th>\n",
       "      <th>Sub_Industry_Technology Hardware, Storage &amp; Peripherals</th>\n",
       "      <th>Ticker</th>\n",
       "    </tr>\n",
       "  </thead>\n",
       "  <tbody>\n",
       "    <tr>\n",
       "      <th>0</th>\n",
       "      <td>1.0</td>\n",
       "      <td>0.0</td>\n",
       "      <td>0.0</td>\n",
       "      <td>1.0</td>\n",
       "      <td>0.0</td>\n",
       "      <td>0.0</td>\n",
       "      <td>1.0</td>\n",
       "      <td>0.0</td>\n",
       "      <td>A</td>\n",
       "    </tr>\n",
       "    <tr>\n",
       "      <th>1</th>\n",
       "      <td>0.0</td>\n",
       "      <td>1.0</td>\n",
       "      <td>0.0</td>\n",
       "      <td>0.0</td>\n",
       "      <td>1.0</td>\n",
       "      <td>0.0</td>\n",
       "      <td>0.0</td>\n",
       "      <td>1.0</td>\n",
       "      <td>AAPL</td>\n",
       "    </tr>\n",
       "    <tr>\n",
       "      <th>2</th>\n",
       "      <td>0.0</td>\n",
       "      <td>0.0</td>\n",
       "      <td>1.0</td>\n",
       "      <td>0.0</td>\n",
       "      <td>1.0</td>\n",
       "      <td>1.0</td>\n",
       "      <td>0.0</td>\n",
       "      <td>0.0</td>\n",
       "      <td>ACN</td>\n",
       "    </tr>\n",
       "  </tbody>\n",
       "</table>\n",
       "</div>"
      ],
      "text/plain": [
       "   Ticker_A  Ticker_AAPL  Ticker_ACN  Industry_Health Care  \\\n",
       "0       1.0          0.0         0.0                   1.0   \n",
       "1       0.0          1.0         0.0                   0.0   \n",
       "2       0.0          0.0         1.0                   0.0   \n",
       "\n",
       "   Industry_Information Technology  \\\n",
       "0                              0.0   \n",
       "1                              1.0   \n",
       "2                              1.0   \n",
       "\n",
       "   Sub_Industry_IT Consulting & Other Services  \\\n",
       "0                                          0.0   \n",
       "1                                          0.0   \n",
       "2                                          1.0   \n",
       "\n",
       "   Sub_Industry_Life Sciences Tools & Services  \\\n",
       "0                                          1.0   \n",
       "1                                          0.0   \n",
       "2                                          0.0   \n",
       "\n",
       "   Sub_Industry_Technology Hardware, Storage & Peripherals Ticker  \n",
       "0                                                0.0            A  \n",
       "1                                                1.0         AAPL  \n",
       "2                                                0.0          ACN  "
      ]
     },
     "execution_count": 48,
     "metadata": {},
     "output_type": "execute_result"
    }
   ],
   "source": [
    "static_features_df"
   ]
  },
  {
   "cell_type": "code",
   "execution_count": 49,
   "metadata": {},
   "outputs": [],
   "source": [
    "# Function to create sliding windows\n",
    "def create_sliding_windows(df, window_size=10):\n",
    "    sequences, targets, tickers = [], [], []\n",
    "    \n",
    "    for ticker, ticker_df in df.groupby(\"Ticker\"):\n",
    "        scaler = StandardScaler()\n",
    "        \n",
    "        # Select dynamic features to normalize\n",
    "        dynamic_features = [\"Adj Close\", \"Close\", \"High\", \"Low\", \"Open\", \"Volume\"]\n",
    "        \n",
    "        # Normalize using training data stats (avoid data leakage)\n",
    "        train_data = ticker_df[dynamic_features].iloc[:-30]  # Assume last 30 days are test/validation\n",
    "        scaler.fit(train_data)\n",
    "        \n",
    "        normalized_data = scaler.transform(ticker_df[dynamic_features])\n",
    "        ticker_df[dynamic_features] = normalized_data\n",
    "        \n",
    "        for i in range(len(ticker_df) - window_size):\n",
    "            # Create input-output pairs\n",
    "            seq = ticker_df.iloc[i:i + window_size][dynamic_features].values\n",
    "            target = ticker_df.iloc[i + window_size][\"Adj Close\"]\n",
    "            \n",
    "            # Get one-hot encoded static features\n",
    "            static_vector = static_features_df[static_features_df[\"Ticker\"] == ticker].drop(columns=[\"Ticker\"]).values.flatten()\n",
    "            \n",
    "            sequences.append(np.hstack([seq, np.tile(static_vector, (window_size, 1))]))  # Repeat static info across window\n",
    "            targets.append(target)\n",
    "            tickers.append(ticker)\n",
    "    \n",
    "    return np.array(sequences), np.array(targets), np.array(tickers)"
   ]
  },
  {
   "cell_type": "code",
   "execution_count": 50,
   "metadata": {},
   "outputs": [],
   "source": [
    "# Generate training data\n",
    "window_size = 10\n",
    "X, y, tickers = create_sliding_windows(merged_df, window_size=window_size)"
   ]
  },
  {
   "cell_type": "code",
   "execution_count": 51,
   "metadata": {},
   "outputs": [
    {
     "name": "stdout",
     "output_type": "stream",
     "text": [
      "(1470, 10, 14) (1470,) (1470,)\n"
     ]
    }
   ],
   "source": [
    "print(X.shape, y.shape, tickers.shape)"
   ]
  },
  {
   "cell_type": "code",
   "execution_count": 46,
   "metadata": {},
   "outputs": [
    {
     "name": "stdout",
     "output_type": "stream",
     "text": [
      "(228, 10, 12) (228,) (228,)\n"
     ]
    }
   ],
   "source": [
    "print(X.shape, y.shape, tickers.shape)"
   ]
  },
  {
   "cell_type": "code",
   "execution_count": 33,
   "metadata": {},
   "outputs": [
    {
     "data": {
      "text/plain": [
       "array(['A', 'A', 'A', 'A', 'A', 'A', 'A', 'A', 'A', 'A', 'A', 'A', 'A',\n",
       "       'A', 'A', 'A', 'A', 'A', 'A', 'A', 'A', 'A', 'A', 'A', 'A', 'A',\n",
       "       'A', 'A', 'A', 'A', 'A', 'A', 'A', 'A', 'A', 'A', 'A', 'A', 'A',\n",
       "       'A', 'A', 'A', 'A', 'A', 'A', 'A', 'A', 'A', 'A', 'A', 'A', 'A',\n",
       "       'A', 'A', 'A', 'A', 'A', 'A', 'A', 'A', 'A', 'A', 'A', 'A', 'A',\n",
       "       'A', 'A', 'A', 'A', 'A', 'A', 'A', 'A', 'A', 'A', 'A', 'A', 'A',\n",
       "       'A', 'A', 'A', 'A', 'A', 'A', 'A', 'A', 'A', 'A', 'A', 'A', 'A',\n",
       "       'A', 'A', 'A', 'A', 'A', 'A', 'A', 'A', 'A', 'A', 'A', 'A', 'A',\n",
       "       'A', 'A', 'A', 'A', 'A', 'A', 'A', 'A', 'A', 'A', 'AAPL', 'AAPL',\n",
       "       'AAPL', 'AAPL', 'AAPL', 'AAPL', 'AAPL', 'AAPL', 'AAPL', 'AAPL',\n",
       "       'AAPL', 'AAPL', 'AAPL', 'AAPL', 'AAPL', 'AAPL', 'AAPL', 'AAPL',\n",
       "       'AAPL', 'AAPL', 'AAPL', 'AAPL', 'AAPL', 'AAPL', 'AAPL', 'AAPL',\n",
       "       'AAPL', 'AAPL', 'AAPL', 'AAPL', 'AAPL', 'AAPL', 'AAPL', 'AAPL',\n",
       "       'AAPL', 'AAPL', 'AAPL', 'AAPL', 'AAPL', 'AAPL', 'AAPL', 'AAPL',\n",
       "       'AAPL', 'AAPL', 'AAPL', 'AAPL', 'AAPL', 'AAPL', 'AAPL', 'AAPL',\n",
       "       'AAPL', 'AAPL', 'AAPL', 'AAPL', 'AAPL', 'AAPL', 'AAPL', 'AAPL',\n",
       "       'AAPL', 'AAPL', 'AAPL', 'AAPL', 'AAPL', 'AAPL', 'AAPL', 'AAPL',\n",
       "       'AAPL', 'AAPL', 'AAPL', 'AAPL', 'AAPL', 'AAPL', 'AAPL', 'AAPL',\n",
       "       'AAPL', 'AAPL', 'AAPL', 'AAPL', 'AAPL', 'AAPL', 'AAPL', 'AAPL',\n",
       "       'AAPL', 'AAPL', 'AAPL', 'AAPL', 'AAPL', 'AAPL', 'AAPL', 'AAPL',\n",
       "       'AAPL', 'AAPL', 'AAPL', 'AAPL', 'AAPL', 'AAPL', 'AAPL', 'AAPL',\n",
       "       'AAPL', 'AAPL', 'AAPL', 'AAPL', 'AAPL', 'AAPL', 'AAPL', 'AAPL',\n",
       "       'AAPL', 'AAPL', 'AAPL', 'AAPL', 'AAPL', 'AAPL', 'AAPL', 'AAPL'],\n",
       "      dtype='<U4')"
      ]
     },
     "execution_count": 33,
     "metadata": {},
     "output_type": "execute_result"
    }
   ],
   "source": [
    "tickers"
   ]
  },
  {
   "cell_type": "code",
   "execution_count": 37,
   "metadata": {},
   "outputs": [
    {
     "data": {
      "text/plain": [
       "(10, 12)"
      ]
     },
     "execution_count": 37,
     "metadata": {},
     "output_type": "execute_result"
    }
   ],
   "source": [
    "X[0].shape"
   ]
  },
  {
   "cell_type": "code",
   "execution_count": 32,
   "metadata": {},
   "outputs": [
    {
     "data": {
      "text/plain": [
       "(228,)"
      ]
     },
     "execution_count": 32,
     "metadata": {},
     "output_type": "execute_result"
    }
   ],
   "source": [
    "y.shape"
   ]
  },
  {
   "cell_type": "code",
   "execution_count": 29,
   "metadata": {},
   "outputs": [
    {
     "data": {
      "text/plain": [
       "(228, 10, 12)"
      ]
     },
     "execution_count": 29,
     "metadata": {},
     "output_type": "execute_result"
    }
   ],
   "source": [
    "X.shape"
   ]
  },
  {
   "cell_type": "code",
   "execution_count": 53,
   "metadata": {},
   "outputs": [],
   "source": [
    "# Save processed data\n",
    "np.savez(\"../data/processed/processed_data.npz\", X=X, y=y, tickers=tickers)"
   ]
  },
  {
   "cell_type": "markdown",
   "metadata": {},
   "source": [
    "## V2"
   ]
  },
  {
   "cell_type": "code",
   "execution_count": null,
   "metadata": {},
   "outputs": [],
   "source": [
    "import pandas as pd\n",
    "import numpy as np\n",
    "from sklearn.preprocessing import StandardScaler, OneHotEncoder\n",
    "from tensorflow.keras.models import Sequential\n",
    "from tensorflow.keras.layers import LSTM, Dense, Dropout\n",
    "from tensorflow.keras.optimizers import Adam\n",
    "\n",
    "###########################\n",
    "# DATA PREPARATION\n",
    "###########################\n",
    "\n",
    "# Load the dataset and keep an original copy for ROI calculations later\n",
    "df = pd.read_csv(\"your_data.csv\")\n",
    "df_original = df.copy()  # keep a copy with original price levels\n",
    "\n",
    "# Convert Date column to datetime and sort by ticker and date\n",
    "df[\"Date\"] = pd.to_datetime(df[\"Date\"])\n",
    "df = df.sort_values(by=[\"Ticker\", \"Date\"])\n",
    "df_original[\"Date\"] = pd.to_datetime(df_original[\"Date\"])\n",
    "df_original = df_original.sort_values(by=[\"Ticker\", \"Date\"])\n",
    "\n",
    "# Static Features (One-Hot Encoding)\n",
    "static_features = df[[\"Ticker\", \"Industry\", \"Sub_Industry\"]].drop_duplicates()\n",
    "encoder = OneHotEncoder(sparse=False, handle_unknown=\"ignore\")\n",
    "encoded_static = encoder.fit_transform(static_features)\n",
    "static_columns = encoder.get_feature_names_out([\"Ticker\", \"Industry\", \"Sub_Industry\"])\n",
    "static_features_df = pd.DataFrame(encoded_static, columns=static_columns)\n",
    "static_features_df[\"Ticker\"] = static_features[\"Ticker\"].values\n",
    "\n",
    "# Function to create sliding windows and store per-company scalers\n",
    "def create_sliding_windows(df, window_size=10):\n",
    "    sequences, targets, tickers = [], [], []\n",
    "    scalers_dict = {}  # to store the fitted scaler for each ticker\n",
    "    \n",
    "    # Define the dynamic features to be normalized\n",
    "    dynamic_features = [\"Adj Close\", \"Close\", \"High\", \"Low\", \"Open\", \"Volume\"]\n",
    "    \n",
    "    for ticker, ticker_df in df.groupby(\"Ticker\"):\n",
    "        # Initialize and fit the scaler on training portion (exclude last 30 days for test/validation)\n",
    "        scaler = StandardScaler()\n",
    "        train_data = ticker_df[dynamic_features].iloc[:-30]\n",
    "        scaler.fit(train_data)\n",
    "        scalers_dict[ticker] = scaler\n",
    "        \n",
    "        # Normalize the entire ticker data using the fitted scaler\n",
    "        normalized_data = scaler.transform(ticker_df[dynamic_features])\n",
    "        # Use .loc to avoid SettingWithCopyWarning\n",
    "        ticker_df.loc[:, dynamic_features] = normalized_data\n",
    "        \n",
    "        # Create sliding windows for this ticker\n",
    "        for i in range(len(ticker_df) - window_size):\n",
    "            seq = ticker_df.iloc[i:i + window_size][dynamic_features].values\n",
    "            # The target is the normalized \"Adj Close\" of the day after the window\n",
    "            target = ticker_df.iloc[i + window_size][\"Adj Close\"]\n",
    "            \n",
    "            # Get one-hot encoded static features for this ticker and repeat across the window\n",
    "            static_vector = static_features_df[static_features_df[\"Ticker\"] == ticker]\\\n",
    "                                .drop(columns=[\"Ticker\"]).values.flatten()\n",
    "            seq_with_static = np.hstack([seq, np.tile(static_vector, (window_size, 1))])\n",
    "            \n",
    "            sequences.append(seq_with_static)\n",
    "            targets.append(target)\n",
    "            tickers.append(ticker)\n",
    "    \n",
    "    return np.array(sequences), np.array(targets), np.array(tickers), scalers_dict\n",
    "\n",
    "# Generate sliding window samples and store scalers\n",
    "window_size = 10\n",
    "X, y, tickers_array, scalers_dict = create_sliding_windows(df, window_size=window_size)\n",
    "\n",
    "# Save processed data if needed (optional)\n",
    "np.savez(\"processed_data.npz\", X=X, y=y, tickers=tickers_array)"
   ]
  },
  {
   "cell_type": "code",
   "execution_count": null,
   "metadata": {},
   "outputs": [],
   "source": []
  },
  {
   "cell_type": "code",
   "execution_count": null,
   "metadata": {},
   "outputs": [],
   "source": []
  }
 ],
 "metadata": {
  "kernelspec": {
   "display_name": "base",
   "language": "python",
   "name": "python3"
  },
  "language_info": {
   "codemirror_mode": {
    "name": "ipython",
    "version": 3
   },
   "file_extension": ".py",
   "mimetype": "text/x-python",
   "name": "python",
   "nbconvert_exporter": "python",
   "pygments_lexer": "ipython3",
   "version": "3.11.5"
  }
 },
 "nbformat": 4,
 "nbformat_minor": 2
}
